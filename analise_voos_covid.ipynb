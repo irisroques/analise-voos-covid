{
 "cells": [
  {
   "cell_type": "markdown",
   "metadata": {},
   "source": [
    "## Análise do volume de tráfego aéreo levando em conta a covid-19 no Brasil.\n",
    "Baseado no repositório covid19 impact on airport traffic disponível no kaggle. Na base disponibilizada pela ANAC estão contempladas informações sobre a quantidade de passageiro, carga e mala postal transportados, distância voada, combustível consumido, entre outras, por etapa de voo e por empresa aérea. Com esses dados e também dados estatísticos da COVID no país será possível verificar se e qual impacto houve com a pandemia."
   ]
  },
  {
   "cell_type": "code",
   "execution_count": 1,
   "metadata": {},
   "outputs": [],
   "source": [
    "import pandas as pd\n",
    "from pandas import DataFrame, Series    "
   ]
  },
  {
   "cell_type": "code",
   "execution_count": 2,
   "metadata": {
    "scrolled": true
   },
   "outputs": [],
   "source": [
    "impact_au = pd.read_csv('covid_impact_on_airport_traffic.csv')\n",
    "covid_world = pd.read_csv('owid-covid-data.csv')\n",
    "covid_cols = DataFrame(covid_world,columns=[\"date\",\"location\",\"total_cases\",\"total_deaths\"])\n",
    "covid_br = covid_cols[covid_cols['location'].str.match('Brazil')]"
   ]
  },
  {
   "cell_type": "code",
   "execution_count": 8,
   "metadata": {},
   "outputs": [],
   "source": [
    "voos_br = pd.read_csv('dados_estatisticos_reduzidos.csv', sep='\\t')\n"
   ]
  },
  {
   "cell_type": "code",
   "execution_count": 6,
   "metadata": {
    "scrolled": true
   },
   "outputs": [
    {
     "data": {
      "text/html": [
       "<div>\n",
       "<style scoped>\n",
       "    .dataframe tbody tr th:only-of-type {\n",
       "        vertical-align: middle;\n",
       "    }\n",
       "\n",
       "    .dataframe tbody tr th {\n",
       "        vertical-align: top;\n",
       "    }\n",
       "\n",
       "    .dataframe thead th {\n",
       "        text-align: right;\n",
       "    }\n",
       "</style>\n",
       "<table border=\"1\" class=\"dataframe\">\n",
       "  <thead>\n",
       "    <tr style=\"text-align: right;\">\n",
       "      <th></th>\n",
       "      <th>date</th>\n",
       "      <th>location</th>\n",
       "      <th>total_cases</th>\n",
       "      <th>total_deaths</th>\n",
       "    </tr>\n",
       "  </thead>\n",
       "  <tbody>\n",
       "    <tr>\n",
       "      <th>13870</th>\n",
       "      <td>2020-02-26</td>\n",
       "      <td>Brazil</td>\n",
       "      <td>1.0</td>\n",
       "      <td>NaN</td>\n",
       "    </tr>\n",
       "    <tr>\n",
       "      <th>13871</th>\n",
       "      <td>2020-02-27</td>\n",
       "      <td>Brazil</td>\n",
       "      <td>1.0</td>\n",
       "      <td>NaN</td>\n",
       "    </tr>\n",
       "    <tr>\n",
       "      <th>13872</th>\n",
       "      <td>2020-02-28</td>\n",
       "      <td>Brazil</td>\n",
       "      <td>1.0</td>\n",
       "      <td>NaN</td>\n",
       "    </tr>\n",
       "    <tr>\n",
       "      <th>13873</th>\n",
       "      <td>2020-02-29</td>\n",
       "      <td>Brazil</td>\n",
       "      <td>2.0</td>\n",
       "      <td>NaN</td>\n",
       "    </tr>\n",
       "    <tr>\n",
       "      <th>13874</th>\n",
       "      <td>2020-03-01</td>\n",
       "      <td>Brazil</td>\n",
       "      <td>2.0</td>\n",
       "      <td>NaN</td>\n",
       "    </tr>\n",
       "  </tbody>\n",
       "</table>\n",
       "</div>"
      ],
      "text/plain": [
       "             date location  total_cases  total_deaths\n",
       "13870  2020-02-26   Brazil          1.0           NaN\n",
       "13871  2020-02-27   Brazil          1.0           NaN\n",
       "13872  2020-02-28   Brazil          1.0           NaN\n",
       "13873  2020-02-29   Brazil          2.0           NaN\n",
       "13874  2020-03-01   Brazil          2.0           NaN"
      ]
     },
     "execution_count": 6,
     "metadata": {},
     "output_type": "execute_result"
    }
   ],
   "source": [
    "covid_br.head()"
   ]
  },
  {
   "cell_type": "code",
   "execution_count": 9,
   "metadata": {},
   "outputs": [
    {
     "data": {
      "text/html": [
       "<div>\n",
       "<style scoped>\n",
       "    .dataframe tbody tr th:only-of-type {\n",
       "        vertical-align: middle;\n",
       "    }\n",
       "\n",
       "    .dataframe tbody tr th {\n",
       "        vertical-align: top;\n",
       "    }\n",
       "\n",
       "    .dataframe thead th {\n",
       "        text-align: right;\n",
       "    }\n",
       "</style>\n",
       "<table border=\"1\" class=\"dataframe\">\n",
       "  <thead>\n",
       "    <tr style=\"text-align: right;\">\n",
       "      <th></th>\n",
       "      <th>ANO</th>\n",
       "      <th>MĘS</th>\n",
       "      <th>AEROPORTO DE ORIGEM (PAÍS)</th>\n",
       "      <th>AEROPORTO DE DESTINO (PAÍS)</th>\n",
       "      <th>PASSAGEIROS PAGOS</th>\n",
       "      <th>PASSAGEIROS GRÁTIS</th>\n",
       "      <th>ASSENTOS</th>\n",
       "    </tr>\n",
       "  </thead>\n",
       "  <tbody>\n",
       "    <tr>\n",
       "      <th>0</th>\n",
       "      <td>2011</td>\n",
       "      <td>1</td>\n",
       "      <td>ESTADOS UNIDOS DA AMÉRICA</td>\n",
       "      <td>ESTADOS UNIDOS DA AMÉRICA</td>\n",
       "      <td>0.0</td>\n",
       "      <td>0.0</td>\n",
       "      <td>246.0</td>\n",
       "    </tr>\n",
       "    <tr>\n",
       "      <th>1</th>\n",
       "      <td>2011</td>\n",
       "      <td>1</td>\n",
       "      <td>ESTADOS UNIDOS DA AMÉRICA</td>\n",
       "      <td>BRASIL</td>\n",
       "      <td>2391.0</td>\n",
       "      <td>51.0</td>\n",
       "      <td>2847.0</td>\n",
       "    </tr>\n",
       "    <tr>\n",
       "      <th>2</th>\n",
       "      <td>2011</td>\n",
       "      <td>1</td>\n",
       "      <td>ESTADOS UNIDOS DA AMÉRICA</td>\n",
       "      <td>BRASIL</td>\n",
       "      <td>6879.0</td>\n",
       "      <td>95.0</td>\n",
       "      <td>7380.0</td>\n",
       "    </tr>\n",
       "    <tr>\n",
       "      <th>3</th>\n",
       "      <td>2011</td>\n",
       "      <td>1</td>\n",
       "      <td>ESTADOS UNIDOS DA AMÉRICA</td>\n",
       "      <td>BRASIL</td>\n",
       "      <td>5130.0</td>\n",
       "      <td>57.0</td>\n",
       "      <td>6132.0</td>\n",
       "    </tr>\n",
       "    <tr>\n",
       "      <th>4</th>\n",
       "      <td>2011</td>\n",
       "      <td>1</td>\n",
       "      <td>ESTADOS UNIDOS DA AMÉRICA</td>\n",
       "      <td>BRASIL</td>\n",
       "      <td>219.0</td>\n",
       "      <td>1.0</td>\n",
       "      <td>246.0</td>\n",
       "    </tr>\n",
       "  </tbody>\n",
       "</table>\n",
       "</div>"
      ],
      "text/plain": [
       "    ANO  MĘS AEROPORTO DE ORIGEM (PAÍS) AEROPORTO DE DESTINO (PAÍS)  \\\n",
       "0  2011    1  ESTADOS UNIDOS DA AMÉRICA   ESTADOS UNIDOS DA AMÉRICA   \n",
       "1  2011    1  ESTADOS UNIDOS DA AMÉRICA                      BRASIL   \n",
       "2  2011    1  ESTADOS UNIDOS DA AMÉRICA                      BRASIL   \n",
       "3  2011    1  ESTADOS UNIDOS DA AMÉRICA                      BRASIL   \n",
       "4  2011    1  ESTADOS UNIDOS DA AMÉRICA                      BRASIL   \n",
       "\n",
       "   PASSAGEIROS PAGOS  PASSAGEIROS GRÁTIS  ASSENTOS  \n",
       "0                0.0                 0.0     246.0  \n",
       "1             2391.0                51.0    2847.0  \n",
       "2             6879.0                95.0    7380.0  \n",
       "3             5130.0                57.0    6132.0  \n",
       "4              219.0                 1.0     246.0  "
      ]
     },
     "execution_count": 9,
     "metadata": {},
     "output_type": "execute_result"
    }
   ],
   "source": [
    "voos_br.head()"
   ]
  },
  {
   "cell_type": "code",
   "execution_count": null,
   "metadata": {},
   "outputs": [],
   "source": []
  },
  {
   "cell_type": "markdown",
   "metadata": {},
   "source": [
    "## Referências\n",
    "\n",
    "1. https://www.kaggle.com/terenceshin/covid19s-impact-on-airport-traffic\n",
    "2. https://www.anac.gov.br/acesso-a-informacao/dados-abertos/areas-de-atuacao/voos-e-operacoes-aereas/dados-estatisticos-do-transporte-aereo/48-dados-estatisticos-do-transporte-aereo\n",
    "3. https://ourworldindata.org/coronavirus/country/brazil\n",
    "4. https://towardsdatascience.com/what-to-do-when-your-data-is-too-big-for-your-memory-65c84c600585\n",
    "5. earthdatascience.org/courses/intro-to-earth-data-science/open-reproducible-science/jupyter-python/code-markdown-cells-in-jupyter-notebook/\n",
    "6. https://davidhamann.de/2017/06/26/pandas-select-elements-by-string/"
   ]
  },
  {
   "cell_type": "code",
   "execution_count": null,
   "metadata": {},
   "outputs": [],
   "source": []
  }
 ],
 "metadata": {
  "kernelspec": {
   "display_name": "Python 3",
   "language": "python",
   "name": "python3"
  },
  "language_info": {
   "codemirror_mode": {
    "name": "ipython",
    "version": 3
   },
   "file_extension": ".py",
   "mimetype": "text/x-python",
   "name": "python",
   "nbconvert_exporter": "python",
   "pygments_lexer": "ipython3",
   "version": "3.8.10"
  }
 },
 "nbformat": 4,
 "nbformat_minor": 4
}
